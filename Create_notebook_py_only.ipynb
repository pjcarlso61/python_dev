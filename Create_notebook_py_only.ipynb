{
 "cells": [
  {
   "cell_type": "code",
   "execution_count": 1,
   "metadata": {},
   "outputs": [],
   "source": [
    "import os\n",
    "from datetime import datetime"
   ]
  },
  {
   "cell_type": "code",
   "execution_count": 2,
   "metadata": {},
   "outputs": [
    {
     "name": "stdout",
     "output_type": "stream",
     "text": [
      "[NbConvertApp] Converting notebook /Users/paulcarlson/Documents/Professional/Python_Development/python/Create_notebook_py_only.ipynb to script\n",
      "[NbConvertApp] Writing 257 bytes to /Users/paulcarlson/Documents/Professional/Python_Development/python/Create_notebook_py_only.py\n"
     ]
    }
   ],
   "source": [
    "\n",
    "notebook_path = os.path.join(os.getcwd(),'Create_notebook_py_only.ipynb')\n",
    "\n",
    "#Bash:\n",
    "!jupyter nbconvert --to script {notebook_path}"
   ]
  },
  {
   "cell_type": "code",
   "execution_count": null,
   "metadata": {},
   "outputs": [],
   "source": []
  }
 ],
 "metadata": {
  "kernelspec": {
   "display_name": "Python 3",
   "language": "python",
   "name": "python3"
  },
  "language_info": {
   "codemirror_mode": {
    "name": "ipython",
    "version": 3
   },
   "file_extension": ".py",
   "mimetype": "text/x-python",
   "name": "python",
   "nbconvert_exporter": "python",
   "pygments_lexer": "ipython3",
   "version": "3.7.1"
  }
 },
 "nbformat": 4,
 "nbformat_minor": 2
}
