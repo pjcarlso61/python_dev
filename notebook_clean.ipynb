{
 "cells": [
  {
   "cell_type": "code",
   "execution_count": null,
   "metadata": {},
   "outputs": [],
   "source": [
    "import os\n",
    "from datetime import datetime"
   ]
  },
  {
   "cell_type": "code",
   "execution_count": null,
   "metadata": {},
   "outputs": [],
   "source": [
    "print('Hello World Again')"
   ]
  },
  {
   "cell_type": "code",
   "execution_count": null,
   "metadata": {},
   "outputs": [],
   "source": [
    "# Save your notebook and run this cell to create \n",
    "# a cleaned file for version control:\n",
    "\n",
    "\n",
    "notebook_path = os.path.join(os.getcwd(),'hello_world_binder.ipynb')\n",
    "cleaned_path = os.path.join(os.getcwd(),'notebook_clean.ipynb')\n",
    "\n",
    "#Bash command below:\n",
    "!cat {notebook_path} | nbstripout > {cleaned_path}\n",
    "\n",
    "date_str = datetime.now().strftime('%Y-%m-%d %H:%M:%S')\n",
    "print('{0} Cleaned file created at: {1}'.format(date_str, cleaned_path))"
   ]
  },
  {
   "cell_type": "code",
   "execution_count": null,
   "metadata": {},
   "outputs": [],
   "source": [
    "print('Hello world again')"
   ]
  },
  {
   "cell_type": "code",
   "execution_count": null,
   "metadata": {},
   "outputs": [],
   "source": [
    "\n",
    "notebook_path = os.path.join(os.getcwd(),'hello_world_binder.ipynb')\n",
    "\n",
    "#Bash:\n",
    "!jupyter nbconvert --to script {notebook_path}"
   ]
  },
  {
   "cell_type": "code",
   "execution_count": null,
   "metadata": {},
   "outputs": [],
   "source": []
  }
 ],
 "metadata": {
  "kernelspec": {
   "display_name": "Python 3",
   "language": "python",
   "name": "python3"
  },
  "language_info": {
   "codemirror_mode": {
    "name": "ipython",
    "version": 3
   },
   "file_extension": ".py",
   "mimetype": "text/x-python",
   "name": "python",
   "nbconvert_exporter": "python",
   "pygments_lexer": "ipython3",
   "version": "3.7.1"
  }
 },
 "nbformat": 4,
 "nbformat_minor": 2
}
