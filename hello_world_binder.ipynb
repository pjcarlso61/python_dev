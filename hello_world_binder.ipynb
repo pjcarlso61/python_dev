{
 "cells": [
  {
   "cell_type": "code",
   "execution_count": 1,
   "metadata": {},
   "outputs": [],
   "source": [
    "import os\n",
    "from datetime import datetime"
   ]
  },
  {
   "cell_type": "code",
   "execution_count": 2,
   "metadata": {},
   "outputs": [
    {
     "name": "stdout",
     "output_type": "stream",
     "text": [
      "Hello World Again\n"
     ]
    }
   ],
   "source": [
    "print('Hello World Again')"
   ]
  },
  {
   "cell_type": "code",
   "execution_count": 3,
   "metadata": {},
   "outputs": [
    {
     "name": "stdout",
     "output_type": "stream",
     "text": [
      "2019-02-17 12:16:53 Cleaned file created at: /Users/paulcarlson/Documents/Professional/Python_Development/python/notebook_clean.ipynb\n"
     ]
    }
   ],
   "source": [
    "# Save your notebook and run this cell to create \n",
    "# a cleaned file for version control:\n",
    "\n",
    "\n",
    "notebook_path = os.path.join(os.getcwd(),'hello_world_binder.ipynb')\n",
    "cleaned_path = os.path.join(os.getcwd(),'notebook_clean.ipynb')\n",
    "\n",
    "#Bash command below:\n",
    "!cat {notebook_path} | nbstripout > {cleaned_path}\n",
    "\n",
    "date_str = datetime.now().strftime('%Y-%m-%d %H:%M:%S')\n",
    "print('{0} Cleaned file created at: {1}'.format(date_str, cleaned_path))"
   ]
  },
  {
   "cell_type": "code",
   "execution_count": 5,
   "metadata": {},
   "outputs": [
    {
     "name": "stdout",
     "output_type": "stream",
     "text": [
      "Hello world again again\n"
     ]
    }
   ],
   "source": [
    "print('Hello world again again')"
   ]
  },
  {
   "cell_type": "code",
   "execution_count": 6,
   "metadata": {},
   "outputs": [
    {
     "name": "stdout",
     "output_type": "stream",
     "text": [
      "[NbConvertApp] Converting notebook /Users/paulcarlson/Documents/Professional/Python_Development/python/hello_world_binder.ipynb to script\n",
      "[NbConvertApp] Writing 813 bytes to /Users/paulcarlson/Documents/Professional/Python_Development/python/hello_world_binder.py\n"
     ]
    }
   ],
   "source": [
    "\n",
    "notebook_path = os.path.join(os.getcwd(),'hello_world_binder.ipynb')\n",
    "\n",
    "#Bash:\n",
    "!jupyter nbconvert --to script {notebook_path}"
   ]
  },
  {
   "cell_type": "code",
   "execution_count": null,
   "metadata": {},
   "outputs": [],
   "source": []
  }
 ],
 "metadata": {
  "kernelspec": {
   "display_name": "Python 3",
   "language": "python",
   "name": "python3"
  },
  "language_info": {
   "codemirror_mode": {
    "name": "ipython",
    "version": 3
   },
   "file_extension": ".py",
   "mimetype": "text/x-python",
   "name": "python",
   "nbconvert_exporter": "python",
   "pygments_lexer": "ipython3",
   "version": "3.7.1"
  }
 },
 "nbformat": 4,
 "nbformat_minor": 2
}
