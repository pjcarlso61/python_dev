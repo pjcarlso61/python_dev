{
 "cells": [
  {
   "cell_type": "code",
   "execution_count": 1,
   "metadata": {},
   "outputs": [],
   "source": [
    "import numpy as np"
   ]
  },
  {
   "cell_type": "code",
   "execution_count": 2,
   "metadata": {},
   "outputs": [],
   "source": [
    "import pandas as pd"
   ]
  },
  {
   "cell_type": "code",
   "execution_count": 4,
   "metadata": {},
   "outputs": [],
   "source": [
    "zmod = pd.read_excel('ZMOD_1-24-19.xlsx',sheet_name='ZMOD')"
   ]
  },
  {
   "cell_type": "code",
   "execution_count": 5,
   "metadata": {},
   "outputs": [],
   "source": [
    "clnote = pd.read_excel('tmp_extends.xlsx',sheet_name='Extend Scope L1-L4')"
   ]
  },
  {
   "cell_type": "code",
   "execution_count": 7,
   "metadata": {},
   "outputs": [
    {
     "data": {
      "text/html": [
       "<div>\n",
       "<style scoped>\n",
       "    .dataframe tbody tr th:only-of-type {\n",
       "        vertical-align: middle;\n",
       "    }\n",
       "\n",
       "    .dataframe tbody tr th {\n",
       "        vertical-align: top;\n",
       "    }\n",
       "\n",
       "    .dataframe thead th {\n",
       "        text-align: right;\n",
       "    }\n",
       "</style>\n",
       "<table border=\"1\" class=\"dataframe\">\n",
       "  <thead>\n",
       "    <tr style=\"text-align: right;\">\n",
       "      <th></th>\n",
       "      <th>Material</th>\n",
       "      <th>Material Number Desc</th>\n",
       "      <th>MTyp</th>\n",
       "      <th>Material Type</th>\n",
       "      <th>Cfg</th>\n",
       "      <th>Rev</th>\n",
       "      <th>Del</th>\n",
       "      <th>XP</th>\n",
       "      <th>XDC</th>\n",
       "      <th>Maint Status</th>\n",
       "      <th>...</th>\n",
       "      <th>Product Family</th>\n",
       "      <th>Product Category</th>\n",
       "      <th>Product Subtype</th>\n",
       "      <th>Future1</th>\n",
       "      <th>Model Class</th>\n",
       "      <th>Family</th>\n",
       "      <th>Model Type</th>\n",
       "      <th>Sub Type</th>\n",
       "      <th>zICG</th>\n",
       "      <th>Grp.</th>\n",
       "    </tr>\n",
       "  </thead>\n",
       "  <tbody>\n",
       "    <tr>\n",
       "      <th>0</th>\n",
       "      <td>MDL-200-MSAN</td>\n",
       "      <td>MDL-200 MM FICON NODE SAN STORAGE</td>\n",
       "      <td>ZMOD</td>\n",
       "      <td>EMC Model</td>\n",
       "      <td>NaN</td>\n",
       "      <td>X</td>\n",
       "      <td>NaN</td>\n",
       "      <td>NaN</td>\n",
       "      <td>NaN</td>\n",
       "      <td>KDEALBVGC</td>\n",
       "      <td>...</td>\n",
       "      <td>DATA DOMAIN</td>\n",
       "      <td>HW</td>\n",
       "      <td>MIDRANGE SYSTEMS1</td>\n",
       "      <td>NaN</td>\n",
       "      <td>HARDWARE</td>\n",
       "      <td>BUS TECH MODELS</td>\n",
       "      <td>BUS TECH</td>\n",
       "      <td>CHANNEL FICON INTERFACE</td>\n",
       "      <td>NaN</td>\n",
       "      <td>NaN</td>\n",
       "    </tr>\n",
       "    <tr>\n",
       "      <th>1</th>\n",
       "      <td>MDL-200-S</td>\n",
       "      <td>MDL-200F SM FICON NODE</td>\n",
       "      <td>ZMOD</td>\n",
       "      <td>EMC Model</td>\n",
       "      <td>NaN</td>\n",
       "      <td>X</td>\n",
       "      <td>NaN</td>\n",
       "      <td>NaN</td>\n",
       "      <td>NaN</td>\n",
       "      <td>KDEALBVGC</td>\n",
       "      <td>...</td>\n",
       "      <td>DATA DOMAIN</td>\n",
       "      <td>HW</td>\n",
       "      <td>MIDRANGE SYSTEMS1</td>\n",
       "      <td>NaN</td>\n",
       "      <td>HARDWARE</td>\n",
       "      <td>BUS TECH MODELS</td>\n",
       "      <td>BUS TECH</td>\n",
       "      <td>CHANNEL FICON INTERFACE</td>\n",
       "      <td>NaN</td>\n",
       "      <td>NaN</td>\n",
       "    </tr>\n",
       "    <tr>\n",
       "      <th>2</th>\n",
       "      <td>MDL-200-S10</td>\n",
       "      <td>MDL-200F SM FICON 10 GIG IP NODE</td>\n",
       "      <td>ZMOD</td>\n",
       "      <td>EMC Model</td>\n",
       "      <td>NaN</td>\n",
       "      <td>X</td>\n",
       "      <td>NaN</td>\n",
       "      <td>NaN</td>\n",
       "      <td>NaN</td>\n",
       "      <td>KDEALBVGC</td>\n",
       "      <td>...</td>\n",
       "      <td>DATA DOMAIN</td>\n",
       "      <td>HW</td>\n",
       "      <td>MIDRANGE SYSTEMS1</td>\n",
       "      <td>NaN</td>\n",
       "      <td>HARDWARE</td>\n",
       "      <td>BUS TECH MODELS</td>\n",
       "      <td>BUS TECH</td>\n",
       "      <td>CHANNEL FICON INTERFACE</td>\n",
       "      <td>NaN</td>\n",
       "      <td>NaN</td>\n",
       "    </tr>\n",
       "    <tr>\n",
       "      <th>3</th>\n",
       "      <td>MDL-200-S4</td>\n",
       "      <td>MDL-200 SM FICON V4.0</td>\n",
       "      <td>ZMOD</td>\n",
       "      <td>EMC Model</td>\n",
       "      <td>NaN</td>\n",
       "      <td>X</td>\n",
       "      <td>NaN</td>\n",
       "      <td>NaN</td>\n",
       "      <td>NaN</td>\n",
       "      <td>KDEALBVGC</td>\n",
       "      <td>...</td>\n",
       "      <td>DATA DOMAIN</td>\n",
       "      <td>HW</td>\n",
       "      <td>MIDRANGE SYSTEMS1</td>\n",
       "      <td>NaN</td>\n",
       "      <td>HARDWARE</td>\n",
       "      <td>BUS TECH MODELS</td>\n",
       "      <td>BUS TECH</td>\n",
       "      <td>CHANNEL FICON INTERFACE</td>\n",
       "      <td>NaN</td>\n",
       "      <td>NaN</td>\n",
       "    </tr>\n",
       "    <tr>\n",
       "      <th>4</th>\n",
       "      <td>MDL-200-S5</td>\n",
       "      <td>MDL-200 SM FICON V5.0</td>\n",
       "      <td>ZMOD</td>\n",
       "      <td>EMC Model</td>\n",
       "      <td>NaN</td>\n",
       "      <td>X</td>\n",
       "      <td>NaN</td>\n",
       "      <td>NaN</td>\n",
       "      <td>NaN</td>\n",
       "      <td>KDEALBVGC</td>\n",
       "      <td>...</td>\n",
       "      <td>DATA DOMAIN</td>\n",
       "      <td>HW</td>\n",
       "      <td>MIDRANGE SYSTEMS1</td>\n",
       "      <td>NaN</td>\n",
       "      <td>HARDWARE</td>\n",
       "      <td>BUS TECH MODELS</td>\n",
       "      <td>BUS TECH</td>\n",
       "      <td>CHANNEL FICON INTERFACE</td>\n",
       "      <td>NaN</td>\n",
       "      <td>NaN</td>\n",
       "    </tr>\n",
       "  </tbody>\n",
       "</table>\n",
       "<p>5 rows × 62 columns</p>\n",
       "</div>"
      ],
      "text/plain": [
       "       Material               Material Number Desc  MTyp Material Type  Cfg  \\\n",
       "0  MDL-200-MSAN  MDL-200 MM FICON NODE SAN STORAGE  ZMOD     EMC Model  NaN   \n",
       "1     MDL-200-S             MDL-200F SM FICON NODE  ZMOD     EMC Model  NaN   \n",
       "2   MDL-200-S10   MDL-200F SM FICON 10 GIG IP NODE  ZMOD     EMC Model  NaN   \n",
       "3    MDL-200-S4              MDL-200 SM FICON V4.0  ZMOD     EMC Model  NaN   \n",
       "4    MDL-200-S5              MDL-200 SM FICON V5.0  ZMOD     EMC Model  NaN   \n",
       "\n",
       "  Rev  Del   XP  XDC Maint Status  ...  Product Family Product Category  \\\n",
       "0   X  NaN  NaN  NaN    KDEALBVGC  ...     DATA DOMAIN               HW   \n",
       "1   X  NaN  NaN  NaN    KDEALBVGC  ...     DATA DOMAIN               HW   \n",
       "2   X  NaN  NaN  NaN    KDEALBVGC  ...     DATA DOMAIN               HW   \n",
       "3   X  NaN  NaN  NaN    KDEALBVGC  ...     DATA DOMAIN               HW   \n",
       "4   X  NaN  NaN  NaN    KDEALBVGC  ...     DATA DOMAIN               HW   \n",
       "\n",
       "     Product Subtype Future1 Model Class           Family  Model Type  \\\n",
       "0  MIDRANGE SYSTEMS1     NaN    HARDWARE  BUS TECH MODELS    BUS TECH   \n",
       "1  MIDRANGE SYSTEMS1     NaN    HARDWARE  BUS TECH MODELS    BUS TECH   \n",
       "2  MIDRANGE SYSTEMS1     NaN    HARDWARE  BUS TECH MODELS    BUS TECH   \n",
       "3  MIDRANGE SYSTEMS1     NaN    HARDWARE  BUS TECH MODELS    BUS TECH   \n",
       "4  MIDRANGE SYSTEMS1     NaN    HARDWARE  BUS TECH MODELS    BUS TECH   \n",
       "\n",
       "                  Sub Type zICG  Grp.  \n",
       "0  CHANNEL FICON INTERFACE  NaN   NaN  \n",
       "1  CHANNEL FICON INTERFACE  NaN   NaN  \n",
       "2  CHANNEL FICON INTERFACE  NaN   NaN  \n",
       "3  CHANNEL FICON INTERFACE  NaN   NaN  \n",
       "4  CHANNEL FICON INTERFACE  NaN   NaN  \n",
       "\n",
       "[5 rows x 62 columns]"
      ]
     },
     "execution_count": 7,
     "metadata": {},
     "output_type": "execute_result"
    }
   ],
   "source": [
    "zmod.head()"
   ]
  },
  {
   "cell_type": "code",
   "execution_count": 8,
   "metadata": {},
   "outputs": [
    {
     "data": {
      "text/plain": [
       "(157051, 62)"
      ]
     },
     "execution_count": 8,
     "metadata": {},
     "output_type": "execute_result"
    }
   ],
   "source": [
    "zmod.shape"
   ]
  },
  {
   "cell_type": "code",
   "execution_count": 9,
   "metadata": {},
   "outputs": [
    {
     "data": {
      "text/html": [
       "<div>\n",
       "<style scoped>\n",
       "    .dataframe tbody tr th:only-of-type {\n",
       "        vertical-align: middle;\n",
       "    }\n",
       "\n",
       "    .dataframe tbody tr th {\n",
       "        vertical-align: top;\n",
       "    }\n",
       "\n",
       "    .dataframe thead th {\n",
       "        text-align: right;\n",
       "    }\n",
       "</style>\n",
       "<table border=\"1\" class=\"dataframe\">\n",
       "  <thead>\n",
       "    <tr style=\"text-align: right;\">\n",
       "      <th></th>\n",
       "      <th>level</th>\n",
       "      <th>data_material</th>\n",
       "      <th>MAT_TYPE</th>\n",
       "      <th>MATERIAL NUMBER DESCRIPTION</th>\n",
       "    </tr>\n",
       "  </thead>\n",
       "  <tbody>\n",
       "    <tr>\n",
       "      <th>0</th>\n",
       "      <td>L1</td>\n",
       "      <td>APS_APPSYNC</td>\n",
       "      <td>ZKM3</td>\n",
       "      <td>AppSync</td>\n",
       "    </tr>\n",
       "    <tr>\n",
       "      <th>1</th>\n",
       "      <td>L1</td>\n",
       "      <td>ASPERA</td>\n",
       "      <td>ZKM3</td>\n",
       "      <td>Aspera/IBM - EMC Select</td>\n",
       "    </tr>\n",
       "    <tr>\n",
       "      <th>2</th>\n",
       "      <td>L1</td>\n",
       "      <td>AVAMAR</td>\n",
       "      <td>ZKM3</td>\n",
       "      <td>AVAMAR SOLUTION</td>\n",
       "    </tr>\n",
       "    <tr>\n",
       "      <th>3</th>\n",
       "      <td>L1</td>\n",
       "      <td>BROCADE</td>\n",
       "      <td>ZKM3</td>\n",
       "      <td>Brocade Ethernet - EMC Select</td>\n",
       "    </tr>\n",
       "    <tr>\n",
       "      <th>4</th>\n",
       "      <td>L1</td>\n",
       "      <td>CLOUDARRAY</td>\n",
       "      <td>ZKM3</td>\n",
       "      <td>CloudArray Appliance HW and SW</td>\n",
       "    </tr>\n",
       "  </tbody>\n",
       "</table>\n",
       "</div>"
      ],
      "text/plain": [
       "  level data_material MAT_TYPE     MATERIAL NUMBER DESCRIPTION\n",
       "0    L1   APS_APPSYNC     ZKM3                         AppSync\n",
       "1    L1        ASPERA     ZKM3         Aspera/IBM - EMC Select\n",
       "2    L1        AVAMAR     ZKM3                 AVAMAR SOLUTION\n",
       "3    L1       BROCADE     ZKM3   Brocade Ethernet - EMC Select\n",
       "4    L1    CLOUDARRAY     ZKM3  CloudArray Appliance HW and SW"
      ]
     },
     "execution_count": 9,
     "metadata": {},
     "output_type": "execute_result"
    }
   ],
   "source": [
    "clnote.head()"
   ]
  },
  {
   "cell_type": "code",
   "execution_count": 10,
   "metadata": {},
   "outputs": [
    {
     "data": {
      "text/plain": [
       "(130682, 4)"
      ]
     },
     "execution_count": 10,
     "metadata": {},
     "output_type": "execute_result"
    }
   ],
   "source": [
    "clnote.shape"
   ]
  },
  {
   "cell_type": "code",
   "execution_count": 11,
   "metadata": {},
   "outputs": [],
   "source": [
    "material_names = zmod['Material']"
   ]
  },
  {
   "cell_type": "code",
   "execution_count": 12,
   "metadata": {},
   "outputs": [],
   "source": [
    "clnodemat_names = clnote['data_material']"
   ]
  },
  {
   "cell_type": "code",
   "execution_count": 47,
   "metadata": {},
   "outputs": [],
   "source": [
    "matched_models = set(clnote['data_material']).intersection(set(zmod['Material']))"
   ]
  },
  {
   "cell_type": "code",
   "execution_count": 48,
   "metadata": {},
   "outputs": [
    {
     "data": {
      "text/plain": [
       "59243"
      ]
     },
     "execution_count": 48,
     "metadata": {},
     "output_type": "execute_result"
    }
   ],
   "source": [
    "len(matched_models)"
   ]
  },
  {
   "cell_type": "code",
   "execution_count": null,
   "metadata": {},
   "outputs": [],
   "source": []
  }
 ],
 "metadata": {
  "kernelspec": {
   "display_name": "Python 3",
   "language": "python",
   "name": "python3"
  },
  "language_info": {
   "codemirror_mode": {
    "name": "ipython",
    "version": 3
   },
   "file_extension": ".py",
   "mimetype": "text/x-python",
   "name": "python",
   "nbconvert_exporter": "python",
   "pygments_lexer": "ipython3",
   "version": "3.7.1"
  }
 },
 "nbformat": 4,
 "nbformat_minor": 2
}
