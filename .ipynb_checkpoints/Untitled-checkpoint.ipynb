{
 "cells": [
  {
   "cell_type": "code",
   "execution_count": null,
   "metadata": {},
   "outputs": [],
   "source": [
    "from atlassian import Confluence\n",
    "\n",
    "confluence = Confluence(\n",
    "    url='https://confluence.cec.lab.emc.com:8443/spaces/viewspace.action?key=~pcarlson')\n",
    "\n",
    "status = confluence.create_page(\n",
    "    space='DEMO',\n",
    "    title='This is the title',\n",
    "    body='This is the body. You can use <strong>HTML tags</strong>!')\n",
    "\n",
    "print(status)"
   ]
  }
 ],
 "metadata": {
  "kernelspec": {
   "display_name": "Python 3",
   "language": "python",
   "name": "python3"
  },
  "language_info": {
   "codemirror_mode": {
    "name": "ipython",
    "version": 3
   },
   "file_extension": ".py",
   "mimetype": "text/x-python",
   "name": "python",
   "nbconvert_exporter": "python",
   "pygments_lexer": "ipython3",
   "version": "3.7.1"
  }
 },
 "nbformat": 4,
 "nbformat_minor": 2
}
