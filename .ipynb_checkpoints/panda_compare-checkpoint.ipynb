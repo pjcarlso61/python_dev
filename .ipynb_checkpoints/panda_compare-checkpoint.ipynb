{
 "cells": [
  {
   "cell_type": "markdown",
   "metadata": {},
   "source": [
    "Paul J Carlson  \n",
    "2-24-19  \n",
    "This program takes two excel files, compares them and does two things \n",
    "\n",
    "The first results file is the merge of the two files.  Only the part numbers found in both files can be found in this merged file. (results.csv)\n",
    "\n",
    "The second results file is a 'diff' result.  It lists all the materials, which ones are in the left file, and which ones are in the right file, and which ones are in both.\n",
    "\n"
   ]
  },
  {
   "cell_type": "code",
   "execution_count": 1,
   "metadata": {},
   "outputs": [],
   "source": [
    "import numpy as np\n",
    "import pandas as pd\n",
    "import os"
   ]
  },
  {
   "cell_type": "code",
   "execution_count": 2,
   "metadata": {},
   "outputs": [
    {
     "data": {
      "text/plain": [
       "(405434, 1)"
      ]
     },
     "execution_count": 2,
     "metadata": {},
     "output_type": "execute_result"
    }
   ],
   "source": [
    "mat21319 = pd.read_excel('LSMW MATNR IE10 2-13-19.xlsx',sheet_name='MATNR_REF',header=None)\n",
    "mat21319.shape"
   ]
  },
  {
   "cell_type": "code",
   "execution_count": 3,
   "metadata": {},
   "outputs": [
    {
     "data": {
      "text/plain": [
       "(397250, 1)"
      ]
     },
     "execution_count": 3,
     "metadata": {},
     "output_type": "execute_result"
    }
   ],
   "source": [
    "mat22019 = pd.read_excel('LSMW MATNR IE10 2-20-19.xlsx',sheet_name='MATNR_REF',header=None)\n",
    "mat22019.shape"
   ]
  },
  {
   "cell_type": "code",
   "execution_count": 4,
   "metadata": {},
   "outputs": [],
   "source": [
    "mat21319.columns = [\"MATNR\"]\n",
    "mat22019.columns = [\"MATNR\"]"
   ]
  },
  {
   "cell_type": "code",
   "execution_count": 5,
   "metadata": {},
   "outputs": [],
   "source": [
    "result = pd.merge(mat21319,mat22019,on = \"MATNR\")\n",
    "result.shape\n",
    "result.to_csv('result.csv', index=None)"
   ]
  },
  {
   "cell_type": "code",
   "execution_count": 6,
   "metadata": {},
   "outputs": [],
   "source": [
    "result_diff = pd.merge(mat21319,mat22019,on = \"MATNR\",indicator = True, how = 'outer')\n",
    "result_diff.to_csv('result_diff.csv', index=None, sep='\\t')\n",
    "# Creates a Merged CSV file that has a column indicating which file (left or right) the data was found in.\n"
   ]
  },
  {
   "cell_type": "code",
   "execution_count": null,
   "metadata": {},
   "outputs": [],
   "source": []
  }
 ],
 "metadata": {
  "kernelspec": {
   "display_name": "Python 3",
   "language": "python",
   "name": "python3"
  },
  "language_info": {
   "codemirror_mode": {
    "name": "ipython",
    "version": 3
   },
   "file_extension": ".py",
   "mimetype": "text/x-python",
   "name": "python",
   "nbconvert_exporter": "python",
   "pygments_lexer": "ipython3",
   "version": "3.7.1"
  }
 },
 "nbformat": 4,
 "nbformat_minor": 2
}
