{
 "cells": [
  {
   "cell_type": "markdown",
   "metadata": {},
   "source": [
    "Paul J Carlson  \n",
    "2-15-19  \n",
    "This program generates the LSMW load files for the setup of the CN50 Sales Org, which is planned to go live in May of 2019  \n",
    "\n"
   ]
  },
  {
   "cell_type": "code",
   "execution_count": 1,
   "metadata": {},
   "outputs": [],
   "source": [
    "import numpy as np\n",
    "import pandas as pd\n",
    "import os"
   ]
  },
  {
   "cell_type": "code",
   "execution_count": 2,
   "metadata": {},
   "outputs": [],
   "source": [
    "materials = pd.read_excel('LSMW MATNR IE10 2-13-19.xlsx',sheet_name='MATNR_REF',header=None)"
   ]
  },
  {
   "cell_type": "code",
   "execution_count": 3,
   "metadata": {},
   "outputs": [
    {
     "name": "stdout",
     "output_type": "stream",
     "text": [
      "405434\n"
     ]
    }
   ],
   "source": [
    "materials.shape\n",
    "matrecordsize=materials.shape\n",
    "print(matrecordsize[0])"
   ]
  },
  {
   "cell_type": "code",
   "execution_count": 4,
   "metadata": {},
   "outputs": [],
   "source": [
    "materials.columns = [\"MATNR\"]"
   ]
  },
  {
   "cell_type": "code",
   "execution_count": 5,
   "metadata": {},
   "outputs": [],
   "source": [
    "materials['MATNR_REF'] = 1\n",
    "materials['VKORG'] = 'CN50'\n",
    "materials['VKORG_REF'] = 'IE10'\n",
    "materials['VTWEG'] = '01'\n",
    "materials['VTWEG_REF'] = '01'\n",
    "materials['MATNR_REF'] = materials['MATNR']"
   ]
  },
  {
   "cell_type": "markdown",
   "metadata": {},
   "source": [
    "The following command succesfully writes the data to a file, tab delimited with the headers  \n",
    "\n",
    "[materials.to_csv('test.txt', index=None, sep='\\t')]  \n",
    "\n",
    "The final code set reads through the entire input file and breaks down the files to smaller files of 19500 records each, with the last file being the remainder of the records.  These files are written out in the following format.\n",
    "\n",
    "Tab Limited Text File  \n",
    "MATNR (Material Number To)   \n",
    "MATNR_REF (Material Number Reference)  \n",
    "VKORG (Sales Org To - always CN50)  \n",
    "VKORG_REF (Sales Org Reference - always IE10)  \n",
    "VTWEG (Distribution Channel 01 - all Records)  \n",
    "VTWEG_REF (Distribution Channel 01 - all Records)  \n",
    "\n",
    "\n"
   ]
  },
  {
   "cell_type": "code",
   "execution_count": 6,
   "metadata": {},
   "outputs": [],
   "source": [
    "loopsize = matrecordsize[0]\n",
    "lsmwtemp = pd.DataFrame()\n",
    "startval = 0\n",
    "endval = 19500\n",
    "filecnt = 1\n",
    "\n",
    "while (endval < loopsize):\n",
    "    lsmwtemp = materials[startval:endval]\n",
    "    dst =\"CN50-2-15-19-LSMW\" + str(filecnt) + \".txt\"\n",
    "    lsmwtemp.to_csv(dst, index=None, sep='\\t')\n",
    "    startval = startval + 19500\n",
    "    endval = endval + 19500\n",
    "    filecnt = filecnt + 1\n",
    "\n",
    "endval = loopsize\n",
    "lsmwtemp = materials[startval:endval]\n",
    "dst =\"CN50-2-15-19-LSMW\" + str(filecnt) + \".txt\"\n",
    "lsmwtemp.to_csv(dst, index=None, sep='\\t')\n",
    "    \n",
    "    "
   ]
  },
  {
   "cell_type": "code",
   "execution_count": null,
   "metadata": {},
   "outputs": [],
   "source": []
  }
 ],
 "metadata": {
  "kernelspec": {
   "display_name": "Python 3",
   "language": "python",
   "name": "python3"
  },
  "language_info": {
   "codemirror_mode": {
    "name": "ipython",
    "version": 3
   },
   "file_extension": ".py",
   "mimetype": "text/x-python",
   "name": "python",
   "nbconvert_exporter": "python",
   "pygments_lexer": "ipython3",
   "version": "3.7.1"
  }
 },
 "nbformat": 4,
 "nbformat_minor": 2
}
